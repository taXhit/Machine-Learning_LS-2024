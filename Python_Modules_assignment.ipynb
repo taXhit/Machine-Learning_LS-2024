{
 "cells": [
  {
   "cell_type": "markdown",
   "metadata": {
    "id": "nKMH5Y1T06vH"
   },
   "source": [
    "# Numpy Implementation"
   ]
  },
  {
   "cell_type": "code",
   "execution_count": 20,
   "metadata": {
    "colab": {
     "base_uri": "https://localhost:8080/",
     "height": 106
    },
    "id": "MM8X0T-p06HB",
    "outputId": "33c6927a-14d5-47be-b5a1-75fe21cfe461"
   },
   "outputs": [
    {
     "name": "stdout",
     "output_type": "stream",
     "text": [
      "Passed\n"
     ]
    }
   ],
   "source": [
    "import numpy as np\n",
    "# Create a 2D Numpy array of size 1x3 with elements of your choice\n",
    "arr1=np.array([[1,2,3]])\n",
    "\n",
    "# Create a Numpy array of length 50 with zeroes as its elements\n",
    "arr2=np.zeros(50)\n",
    "\n",
    "#Create a Numpy array of length 3x2 with elements of your choice\n",
    "arr3=np.array([[1,2], [3,4], [5,6]])\n",
    "\n",
    "arr4=np.dot(arr1, arr3)\n",
    "\n",
    "#Change 5th element of arr2 to a different number\n",
    "arr2[4] = 1\n",
    "\n",
    "if np.shape(arr4)==(1,2) and arr2[4]!=0:\n",
    "  print(\"Passed\")\n",
    "else:\n",
    "  print(\"Fail\")"
   ]
  },
  {
   "cell_type": "code",
   "execution_count": 24,
   "metadata": {
    "id": "KNTXZFd13rgE"
   },
   "outputs": [
    {
     "name": "stdout",
     "output_type": "stream",
     "text": [
      "[[10.  1.  1.]\n",
      " [ 1. 10.  1.]\n",
      " [ 1.  1. 10.]]\n"
     ]
    }
   ],
   "source": [
    "import numpy as np\n",
    "#Task: Perform the dot product of I and 9I+1 using numpy, here I is referred to as an 3x3 Identity matrix.\n",
    "I = np.identity(3)\n",
    "result = np.dot (I, (9*I+1))\n",
    "print(result)"
   ]
  },
  {
   "cell_type": "markdown",
   "metadata": {
    "id": "rRrOxN-6FXAb"
   },
   "source": [
    "# Pandas Implementation"
   ]
  },
  {
   "cell_type": "code",
   "execution_count": 49,
   "metadata": {
    "id": "EaoIVtKIFenB"
   },
   "outputs": [
    {
     "name": "stdout",
     "output_type": "stream",
     "text": [
      "     Name  Age       City\n",
      "0  Ramesh   25  Bangalore\n",
      "1  Mahesh   30     Mumbai\n",
      "_________________________________\n",
      "   Age\n",
      "0   25\n",
      "1   30\n",
      "2   35\n",
      "_________________________________\n",
      "     Name  Age    City\n",
      "1  Mahesh   30  Mumbai\n",
      "2  Suresh   35   Delhi\n",
      "_________________________________\n",
      "     Name  Age       City Country\n",
      "0  Ramesh   25  Bangalore   India\n",
      "1  Mahesh   30     Mumbai   India\n",
      "2  Suresh   35      Delhi   India\n",
      "_________________________________\n",
      "     Name   Age       City\n",
      "0  Ramesh  25.0  Bangalore\n",
      "1  Mahesh  30.0     Mumbai\n",
      "2  Suresh  35.0      Delhi\n"
     ]
    }
   ],
   "source": [
    "import pandas as pd\n",
    "\n",
    "## Create a DataFrame from a dictionary\n",
    "data = {\n",
    "    'Name': ['Ramesh', 'Mahesh', 'Suresh'],\n",
    "    'Age': [25, 30, 35],\n",
    "    'City': ['Bangalore', 'Mumbai', 'Delhi']\n",
    "}\n",
    "#Your code here\n",
    "df = pd.DataFrame(data)\n",
    "\n",
    "#Display the first 2 rows of the data frame\n",
    "#Your code here\n",
    "print(df.head(2))\n",
    "print(\"_________________________________\")\n",
    "\n",
    "#Print the age column\n",
    "#Your code here\n",
    "print(df[['Age']])\n",
    "print(\"_________________________________\")\n",
    "\n",
    "#Filter rows where age is greater than 26\n",
    "#Your code here\n",
    "print(df[(df['Age']>26)])\n",
    "print(\"_________________________________\")\n",
    "\n",
    "#Add a new column 'Country' with the value 'India' for all rows\n",
    "#Your code here\n",
    "df['Country'] = 'India'\n",
    "print(df)\n",
    "print(\"_________________________________\")\n",
    "\n",
    "data1 = {\n",
    "    'Name': ['Ramesh', 'Mahesh', 'Suresh'],\n",
    "    'Age': [25, None, 35],\n",
    "    'City': ['Bangalore', 'Mumbai', 'Delhi']\n",
    "}\n",
    "\n",
    "df2= pd.DataFrame(data1)\n",
    "\n",
    "# Fill missing values in the 'Age' column with the mean age\n",
    "#Your code here\n",
    "df2 = df2.fillna(df2['Age'].mean())\n",
    "print(df2)"
   ]
  },
  {
   "cell_type": "markdown",
   "metadata": {
    "id": "uay3H4C8cboE"
   },
   "source": [
    "# Matplotlib Implementation"
   ]
  },
  {
   "cell_type": "code",
   "execution_count": 99,
   "metadata": {
    "colab": {
     "base_uri": "https://localhost:8080/",
     "height": 106
    },
    "id": "i4lccqVxcgE_",
    "outputId": "5f093bf0-5059-4031-d49f-511341e86114"
   },
   "outputs": [
    {
     "data": {
      "image/png": "[encoded data removed]",
      "text/plain": [
       "<Figure size 640x480 with 4 Axes>"
      ]
     },
     "metadata": {},
     "output_type": "display_data"
    }
   ],
   "source": [
    "import matplotlib.pyplot as plt\n",
    "import numpy as np#numpy module. Fill your code\n",
    "\n",
    "fig, ax = plt.subplots(2,2)\n",
    "\n",
    "xpoints=np.array([1,2,3,4])\n",
    "ypoints=np.array([2,4,6,8])\n",
    "\n",
    "#Plot these points without drawing a line\n",
    "#Your code here\n",
    "ax[0,0].plot(xpoints, ypoints, 'o')\n",
    "\n",
    "#Plotting with marker: Plot these points with a marker(Star marker)\n",
    "#Your code here\n",
    "ax[0,1].plot(xpoints, ypoints, '*')\n",
    "\n",
    "#Using fmt format, add circular marker,red color and Dashed line\n",
    "#Your code here\n",
    "ax[1,0].plot(xpoints, ypoints, 'ro--')\n",
    "\n",
    "#Add xlabel,ylabel and title for the plot.\n",
    "#Your code here\n",
    "ax[1,0].set_title('Graph')\n",
    "ax[1,0].set_xlabel('x-axis')\n",
    "ax[1,0].set_ylabel('y-axis')\n",
    "\n",
    "\n",
    "#Create a scatter plot for xpoints and ypoints\n",
    "#Your code here\n",
    "#Set color to the scatter plot. Blue,Green,Red and yellow color for each point respectively\n",
    "col = np.array(['blue', 'green', 'red', 'yellow'])\n",
    "for i in range(len(xpoints)): \n",
    "    ax[1,1].scatter(xpoints[i], ypoints[i], color = col[i]) "
   ]
  },
  {
   "cell_type": "markdown",
   "metadata": {
    "id": "pfe2Fv2tgKq5"
   },
   "source": [
    "# Miscellaneous Modules Implementation"
   ]
  },
  {
   "cell_type": "code",
   "execution_count": 120,
   "metadata": {
    "id": "a_bTz2PlgRah"
   },
   "outputs": [
    {
     "name": "stdout",
     "output_type": "stream",
     "text": [
      "209\n"
     ]
    }
   ],
   "source": [
    "import random\n",
    "import numpy as np\n",
    "\n",
    "#Set the seed of random to 20\n",
    "#Your code here\n",
    "random.seed(20)\n",
    "\n",
    "arr1=np.array([1,24,31,45,73,81,94,25])\n",
    "\n",
    "#Using the random module pick 4 different random numbers from arr1 and return their sum.\n",
    "#Your code here\n",
    "num_sum = 0\n",
    "for i in range(4):\n",
    "    num_sum = num_sum + arr1[random.randint(0, 8)]\n",
    "\n",
    "print(num_sum)"
   ]
  }
 ],
 "metadata": {
  "colab": {
   "provenance": []
  },
  "kernelspec": {
   "display_name": "Python 3 (ipykernel)",
   "language": "python",
   "name": "python3"
  },
  "language_info": {
   "codemirror_mode": {
    "name": "ipython",
    "version": 3
   },
   "file_extension": ".py",
   "mimetype": "text/x-python",
   "name": "python",
   "nbconvert_exporter": "python",
   "pygments_lexer": "ipython3",
   "version": "3.11.2"
  }
 },
 "nbformat": 4,
 "nbformat_minor": 1
}
