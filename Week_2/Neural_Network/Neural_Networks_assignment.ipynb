{
 "cells": [
  {
   "cell_type": "code",
   "execution_count": 196,
   "id": "d9f1a1b4",
   "metadata": {},
   "outputs": [],
   "source": [
    "import torch\n",
    "import torch.nn as nn\n",
    "import torch.optim as optim\n",
    "import torch.nn.functional as F\n",
    "from torch.utils.data import DataLoader, random_split\n",
    "import torchvision.datasets as datasets\n",
    "import torchvision.transforms as transforms"
   ]
  },
  {
   "cell_type": "code",
   "execution_count": 197,
   "id": "94b211bc",
   "metadata": {},
   "outputs": [],
   "source": [
    "class NN(nn.Module):\n",
    "    def __init__(self, input_size, num_classes):\n",
    "        super(NN, self).__init__()\n",
    "        self.fc1 = nn.Linear(input_size, 150)\n",
    "        self.fc2 = nn.Linear(150, num_classes)\n",
    "        \n",
    "    def forward(self, x):\n",
    "        x = F.relu(self.fc1(x))\n",
    "        x = self.fc2(x)\n",
    "        return x"
   ]
  },
  {
   "cell_type": "code",
   "execution_count": 198,
   "id": "96fd7965",
   "metadata": {},
   "outputs": [
    {
     "name": "stdout",
     "output_type": "stream",
     "text": [
      "torch.Size([64, 2])\n"
     ]
    }
   ],
   "source": [
    "model = NN(12288, 2)\n",
    "x = torch.randn(64, 12288)\n",
    "print(model(x).shape)"
   ]
  },
  {
   "cell_type": "code",
   "execution_count": 199,
   "id": "11286e30",
   "metadata": {},
   "outputs": [],
   "source": [
    "input_size = 12288\n",
    "num_classes = 2\n",
    "learning_rate = 0.008\n",
    "batch_size = 32\n",
    "num_epochs = 100"
   ]
  },
  {
   "cell_type": "code",
   "execution_count": 200,
   "id": "1679ac6e",
   "metadata": {},
   "outputs": [],
   "source": [
    "device = torch.device('cpu')"
   ]
  },
  {
   "cell_type": "code",
   "execution_count": 201,
   "id": "ad59d4ef",
   "metadata": {},
   "outputs": [],
   "source": [
    "# import zipfile\n",
    "# import os\n",
    "\n",
    "# zip_file = 'homer_bart.zip'\n",
    "# extraction_path = 'dataset/'\n",
    "\n",
    "# os.makedirs(extraction_path, exist_ok=True)\n",
    "# with zipfile.ZipFile(zip_file, 'r') as zip_ref:\n",
    "#     zip_ref.extractall(extraction_path)\n",
    "# extracted_files = os.listdir(extraction_path)"
   ]
  },
  {
   "cell_type": "code",
   "execution_count": 202,
   "id": "7e3c2f9d",
   "metadata": {},
   "outputs": [],
   "source": [
    "data_transforms = transforms.Compose([\n",
    "    transforms.Resize((64, 64)),   # Resize images to 64x64 pixels\n",
    "    transforms.ToTensor(),         # Convert the image to a PyTorch tensor\n",
    "    transforms.Normalize(mean=[0.485, 0.456, 0.406], std=[0.229, 0.224, 0.225])\n",
    "])"
   ]
  },
  {
   "cell_type": "code",
   "execution_count": 203,
   "id": "97be6a67",
   "metadata": {},
   "outputs": [],
   "source": [
    "data_dir = 'dataset'\n",
    "image_data = datasets.ImageFolder(data_dir, transform=data_transforms)\n",
    "\n",
    "train_size = int(0.9 * len(image_data))\n",
    "test_size = len(image_data) - train_size\n",
    "train_data, test_data = random_split(image_data, [train_size, test_size])\n",
    "\n",
    "train_dataloader = DataLoader(train_data, batch_size=batch_size, shuffle=True)\n",
    "test_dataloader = DataLoader(image_data, batch_size=batch_size, shuffle=True)"
   ]
  },
  {
   "cell_type": "code",
   "execution_count": 204,
   "id": "9037f045",
   "metadata": {},
   "outputs": [],
   "source": [
    "model = NN(input_size = input_size, num_classes = num_classes).to(device)"
   ]
  },
  {
   "cell_type": "code",
   "execution_count": 205,
   "id": "6d641efb",
   "metadata": {},
   "outputs": [],
   "source": [
    "loss_fn = nn.CrossEntropyLoss()\n",
    "optimizer = optim.Adam(model.parameters(), lr=learning_rate, weight_decay = 0.01)"
   ]
  },
  {
   "cell_type": "code",
   "execution_count": 206,
   "id": "3e242afa",
   "metadata": {
    "scrolled": false
   },
   "outputs": [
    {
     "name": "stdout",
     "output_type": "stream",
     "text": [
      "epoch: 1/100 ---> loss = 70.85\n",
      "epoch: 2/100 ---> loss = 6.826\n",
      "epoch: 3/100 ---> loss = 0.632\n",
      "epoch: 4/100 ---> loss = 0.772\n",
      "epoch: 5/100 ---> loss = 1.361\n",
      "epoch: 6/100 ---> loss = 0.444\n",
      "epoch: 7/100 ---> loss = 0.935\n",
      "epoch: 8/100 ---> loss = 1.025\n",
      "epoch: 9/100 ---> loss = 0.635\n",
      "epoch: 10/100 ---> loss = 1.095\n",
      "epoch: 11/100 ---> loss = 3.497\n",
      "epoch: 12/100 ---> loss = 1.988\n",
      "epoch: 13/100 ---> loss = 0.594\n",
      "epoch: 14/100 ---> loss = 0.559\n",
      "epoch: 15/100 ---> loss = 1.265\n",
      "epoch: 16/100 ---> loss = 3.034\n",
      "epoch: 17/100 ---> loss = 2.571\n",
      "epoch: 18/100 ---> loss = 0.948\n",
      "epoch: 19/100 ---> loss = 0.521\n",
      "epoch: 20/100 ---> loss = 0.587\n",
      "epoch: 21/100 ---> loss = 0.296\n",
      "epoch: 22/100 ---> loss = 0.372\n",
      "epoch: 23/100 ---> loss = 0.228\n",
      "epoch: 24/100 ---> loss = 0.562\n",
      "epoch: 25/100 ---> loss = 0.163\n",
      "epoch: 26/100 ---> loss = 3.291\n",
      "epoch: 27/100 ---> loss = 0.652\n",
      "epoch: 28/100 ---> loss = 0.274\n",
      "epoch: 29/100 ---> loss = 0.686\n",
      "epoch: 30/100 ---> loss = 0.321\n",
      "epoch: 31/100 ---> loss = 0.16\n",
      "epoch: 32/100 ---> loss = 0.041\n",
      "epoch: 33/100 ---> loss = 0.034\n",
      "epoch: 34/100 ---> loss = 0.06\n",
      "epoch: 35/100 ---> loss = 0.043\n",
      "epoch: 36/100 ---> loss = 0.019\n",
      "epoch: 37/100 ---> loss = 0.023\n",
      "epoch: 38/100 ---> loss = 0.011\n",
      "epoch: 39/100 ---> loss = 0.015\n",
      "epoch: 40/100 ---> loss = 0.01\n"
     ]
    }
   ],
   "source": [
    "train_losses = []\n",
    "\n",
    "for epoch in range(num_epochs):\n",
    "    epoch_losses = []\n",
    "    for batch_idx, (data, targets) in enumerate(train_dataloader):\n",
    "        data == data.to(device=device)\n",
    "        targets = targets.to(device=device)\n",
    "        data = data.reshape(data.shape[0], -1)\n",
    "        \n",
    "        #fwd prop\n",
    "        scores = model(data)\n",
    "        loss = loss_fn(scores, targets)\n",
    "        \n",
    "        #bwd prop\n",
    "        optimizer.zero_grad()\n",
    "        loss.backward()\n",
    "        \n",
    "        #grad_descent\n",
    "        optimizer.step()\n",
    "        \n",
    "        epoch_losses.append(loss.item())\n",
    "    \n",
    "    epoch_loss = sum(epoch_losses) / len(epoch_losses)\n",
    "    train_losses.append(epoch_loss)\n",
    "    \n",
    "    print (f\"epoch: {epoch+1}/{num_epochs} ---> loss = {round(epoch_loss, 3)}\")\n",
    "    \n",
    "    if (epoch_loss < 0.01):\n",
    "        break"
   ]
  },
  {
   "cell_type": "code",
   "execution_count": 207,
   "id": "237ac536",
   "metadata": {
    "scrolled": false
   },
   "outputs": [
    {
     "data": {
      "image/png": "[encoded data removed]",
      "text/plain": [
       "<Figure size 640x480 with 1 Axes>"
      ]
     },
     "metadata": {},
     "output_type": "display_data"
    }
   ],
   "source": [
    "import matplotlib.pyplot as plt\n",
    "\n",
    "plt.plot(train_losses, label='Training Loss')\n",
    "plt.xlabel('Epoch')\n",
    "plt.ylabel('Loss')\n",
    "plt.title('Training Loss over Epochs')\n",
    "plt.show()"
   ]
  },
  {
   "cell_type": "code",
   "execution_count": 208,
   "id": "1bc2e562",
   "metadata": {},
   "outputs": [],
   "source": [
    "def accuracy(loader, model):\n",
    "    num_correct = 0\n",
    "    num_samples = 0\n",
    "    model.eval()\n",
    "    \n",
    "    with torch.no_grad():\n",
    "        for x, y in loader:\n",
    "            x = x.to(device=device)\n",
    "            y = y.to(device=device)\n",
    "            x = x.reshape(x.shape[0], -1)\n",
    "            \n",
    "            scores = model(x)\n",
    "            _,pred = scores.max(1)\n",
    "            num_correct += (pred == y).sum()\n",
    "            num_samples += pred.size(0)\n",
    "            \n",
    "        acc = (float(num_correct) /float(num_samples)*100)\n",
    "        \n",
    "    model.train()\n",
    "    return acc "
   ]
  },
  {
   "cell_type": "code",
   "execution_count": 209,
   "id": "81431125",
   "metadata": {},
   "outputs": [],
   "source": [
    "train_acc = accuracy(train_dataloader, model)\n",
    "test_acc = accuracy(test_dataloader, model)"
   ]
  },
  {
   "cell_type": "code",
   "execution_count": 210,
   "id": "6f59e1d5",
   "metadata": {},
   "outputs": [
    {
     "name": "stdout",
     "output_type": "stream",
     "text": [
      "train_accuracy = 100.0\n",
      "test_accuracy = 97.026\n"
     ]
    }
   ],
   "source": [
    "print(f\"train_accuracy = {round(train_acc, 3)}\")\n",
    "print(f\"test_accuracy = {round(test_acc, 3)}\")"
   ]
  }
 ],
 "metadata": {
  "kernelspec": {
   "display_name": "Python 3 (ipykernel)",
   "language": "python",
   "name": "python3"
  },
  "language_info": {
   "codemirror_mode": {
    "name": "ipython",
    "version": 3
   },
   "file_extension": ".py",
   "mimetype": "text/x-python",
   "name": "python",
   "nbconvert_exporter": "python",
   "pygments_lexer": "ipython3",
   "version": "3.11.2"
  }
 },
 "nbformat": 4,
 "nbformat_minor": 5
}
